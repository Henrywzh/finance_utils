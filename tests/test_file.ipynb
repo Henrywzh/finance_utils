{
 "cells": [
  {
   "cell_type": "code",
   "execution_count": 1,
   "id": "initial_id",
   "metadata": {
    "collapsed": true,
    "ExecuteTime": {
     "end_time": "2024-06-25T21:45:05.106566Z",
     "start_time": "2024-06-25T21:45:04.524952Z"
    }
   },
   "outputs": [],
   "source": [
    "from datetime import datetime\n",
    "from finance_utils.display import *\n",
    "import yfinance as yf"
   ]
  },
  {
   "cell_type": "code",
   "outputs": [
    {
     "name": "stderr",
     "output_type": "stream",
     "text": [
      "[*********************100%%**********************]  4 of 4 completed\n"
     ]
    }
   ],
   "source": [
    "tickers = ['NVDA', 'AAPL', 'MSFT', 'GOOG']\n",
    "df = yf.download(tickers, start=datetime(2020, 1, 1), end=datetime(2024, 6, 1))"
   ],
   "metadata": {
    "collapsed": false,
    "ExecuteTime": {
     "end_time": "2024-06-25T21:45:07.299952Z",
     "start_time": "2024-06-25T21:45:06.469981Z"
    }
   },
   "id": "4f4c019f6226a0b7",
   "execution_count": 2
  },
  {
   "cell_type": "code",
   "outputs": [],
   "source": [
    "l = [df[('Close', t)] for t in tickers]\n",
    "price_df = pd.concat(l, axis=1)"
   ],
   "metadata": {
    "collapsed": false,
    "ExecuteTime": {
     "end_time": "2024-06-25T21:45:08.332379Z",
     "start_time": "2024-06-25T21:45:08.326752Z"
    }
   },
   "id": "e6473a1a97ead67",
   "execution_count": 3
  },
  {
   "cell_type": "code",
   "outputs": [],
   "source": [
    "price_df.columns = price_df.columns.get_level_values(1)"
   ],
   "metadata": {
    "collapsed": false,
    "ExecuteTime": {
     "end_time": "2024-06-25T21:45:09.534041Z",
     "start_time": "2024-06-25T21:45:09.530714Z"
    }
   },
   "id": "d04961dfef4e4493",
   "execution_count": 4
  },
  {
   "cell_type": "code",
   "outputs": [
    {
     "name": "stdout",
     "output_type": "stream",
     "text": [
      "<class 'pandas.core.frame.DataFrame'>\n",
      "DatetimeIndex: 1111 entries, 2020-01-02 to 2024-05-31\n",
      "Data columns (total 4 columns):\n",
      " #   Column  Non-Null Count  Dtype  \n",
      "---  ------  --------------  -----  \n",
      " 0   NVDA    1111 non-null   float64\n",
      " 1   AAPL    1111 non-null   float64\n",
      " 2   MSFT    1111 non-null   float64\n",
      " 3   GOOG    1111 non-null   float64\n",
      "dtypes: float64(4)\n",
      "memory usage: 43.4 KB\n"
     ]
    }
   ],
   "source": [
    "price_df.info()"
   ],
   "metadata": {
    "collapsed": false,
    "ExecuteTime": {
     "end_time": "2024-06-25T21:45:10.299Z",
     "start_time": "2024-06-25T21:45:10.291409Z"
    }
   },
   "id": "1d39771d804223d9",
   "execution_count": 5
  },
  {
   "cell_type": "code",
   "outputs": [],
   "source": [
    "# fig, axs = plt.subplots(nrows=len(tickers), ncols=1, figsize=(10, 40))\n",
    "# for i, ticker in enumerate(tickers):\n",
    "#     # macd_df = macd()  \n",
    "#     print(type(price_df.loc[:, ticker]))\n",
    "\n",
    "macd_df = macd(price_df['NVDA'], ticker_name='NVDA')\n",
    "macd_list = macd(price_df['NVDA'].tolist(), ticker_name='NVDA')"
   ],
   "metadata": {
    "collapsed": false,
    "ExecuteTime": {
     "end_time": "2024-06-25T21:45:30.965136Z",
     "start_time": "2024-06-25T21:45:30.958233Z"
    }
   },
   "id": "9c8548da2020a1f3",
   "execution_count": 6
  },
  {
   "cell_type": "code",
   "outputs": [
    {
     "data": {
      "text/plain": "                  NVDA       EMA12      EMA26      MACD  Signal Line\nDate                                                                \n2020-01-02    5.997750    5.997750   5.997750  0.000000     0.000000\n2020-01-03    5.901750    5.982981   5.990639 -0.007658    -0.001532\n2020-01-06    5.926500    5.974291   5.985888 -0.011596    -0.003545\n2020-01-07    5.998250    5.977977   5.986803 -0.008826    -0.004601\n2020-01-08    6.009500    5.982827   5.988485 -0.005658    -0.004812\n...                ...         ...        ...       ...          ...\n2024-05-24  106.469002   96.094360  92.226240  3.868120     2.448566\n2024-05-28  113.901001   98.833843  93.831777  5.002065     2.959266\n2024-05-29  114.824997  101.294020  95.386831  5.907190     3.548851\n2024-05-30  110.500000  102.710325  96.506325  6.204000     4.079881\n2024-05-31  109.633003  103.775352  97.478671  6.296681     4.523241\n\n[1111 rows x 5 columns]",
      "text/html": "<div>\n<style scoped>\n    .dataframe tbody tr th:only-of-type {\n        vertical-align: middle;\n    }\n\n    .dataframe tbody tr th {\n        vertical-align: top;\n    }\n\n    .dataframe thead th {\n        text-align: right;\n    }\n</style>\n<table border=\"1\" class=\"dataframe\">\n  <thead>\n    <tr style=\"text-align: right;\">\n      <th></th>\n      <th>NVDA</th>\n      <th>EMA12</th>\n      <th>EMA26</th>\n      <th>MACD</th>\n      <th>Signal Line</th>\n    </tr>\n    <tr>\n      <th>Date</th>\n      <th></th>\n      <th></th>\n      <th></th>\n      <th></th>\n      <th></th>\n    </tr>\n  </thead>\n  <tbody>\n    <tr>\n      <th>2020-01-02</th>\n      <td>5.997750</td>\n      <td>5.997750</td>\n      <td>5.997750</td>\n      <td>0.000000</td>\n      <td>0.000000</td>\n    </tr>\n    <tr>\n      <th>2020-01-03</th>\n      <td>5.901750</td>\n      <td>5.982981</td>\n      <td>5.990639</td>\n      <td>-0.007658</td>\n      <td>-0.001532</td>\n    </tr>\n    <tr>\n      <th>2020-01-06</th>\n      <td>5.926500</td>\n      <td>5.974291</td>\n      <td>5.985888</td>\n      <td>-0.011596</td>\n      <td>-0.003545</td>\n    </tr>\n    <tr>\n      <th>2020-01-07</th>\n      <td>5.998250</td>\n      <td>5.977977</td>\n      <td>5.986803</td>\n      <td>-0.008826</td>\n      <td>-0.004601</td>\n    </tr>\n    <tr>\n      <th>2020-01-08</th>\n      <td>6.009500</td>\n      <td>5.982827</td>\n      <td>5.988485</td>\n      <td>-0.005658</td>\n      <td>-0.004812</td>\n    </tr>\n    <tr>\n      <th>...</th>\n      <td>...</td>\n      <td>...</td>\n      <td>...</td>\n      <td>...</td>\n      <td>...</td>\n    </tr>\n    <tr>\n      <th>2024-05-24</th>\n      <td>106.469002</td>\n      <td>96.094360</td>\n      <td>92.226240</td>\n      <td>3.868120</td>\n      <td>2.448566</td>\n    </tr>\n    <tr>\n      <th>2024-05-28</th>\n      <td>113.901001</td>\n      <td>98.833843</td>\n      <td>93.831777</td>\n      <td>5.002065</td>\n      <td>2.959266</td>\n    </tr>\n    <tr>\n      <th>2024-05-29</th>\n      <td>114.824997</td>\n      <td>101.294020</td>\n      <td>95.386831</td>\n      <td>5.907190</td>\n      <td>3.548851</td>\n    </tr>\n    <tr>\n      <th>2024-05-30</th>\n      <td>110.500000</td>\n      <td>102.710325</td>\n      <td>96.506325</td>\n      <td>6.204000</td>\n      <td>4.079881</td>\n    </tr>\n    <tr>\n      <th>2024-05-31</th>\n      <td>109.633003</td>\n      <td>103.775352</td>\n      <td>97.478671</td>\n      <td>6.296681</td>\n      <td>4.523241</td>\n    </tr>\n  </tbody>\n</table>\n<p>1111 rows × 5 columns</p>\n</div>"
     },
     "execution_count": 8,
     "metadata": {},
     "output_type": "execute_result"
    }
   ],
   "source": [
    "macd_df"
   ],
   "metadata": {
    "collapsed": false,
    "ExecuteTime": {
     "end_time": "2024-06-25T22:09:10.810909Z",
     "start_time": "2024-06-25T22:09:10.799732Z"
    }
   },
   "id": "99b84b4e8f07282b",
   "execution_count": 8
  },
  {
   "cell_type": "code",
   "outputs": [],
   "source": [],
   "metadata": {
    "collapsed": false,
    "ExecuteTime": {
     "end_time": "2024-06-25T21:36:46.003167Z",
     "start_time": "2024-06-25T21:36:46.001053Z"
    }
   },
   "id": "7745d2ef5d16ddd9",
   "execution_count": 13
  },
  {
   "cell_type": "code",
   "outputs": [],
   "source": [],
   "metadata": {
    "collapsed": false
   },
   "id": "76c504cd7e24731a"
  }
 ],
 "metadata": {
  "kernelspec": {
   "display_name": "Python 3",
   "language": "python",
   "name": "python3"
  },
  "language_info": {
   "codemirror_mode": {
    "name": "ipython",
    "version": 2
   },
   "file_extension": ".py",
   "mimetype": "text/x-python",
   "name": "python",
   "nbconvert_exporter": "python",
   "pygments_lexer": "ipython2",
   "version": "2.7.6"
  }
 },
 "nbformat": 4,
 "nbformat_minor": 5
}
