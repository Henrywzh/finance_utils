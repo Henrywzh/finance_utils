{
 "cells": [
  {
   "cell_type": "code",
   "execution_count": 1,
   "id": "initial_id",
   "metadata": {
    "collapsed": true,
    "ExecuteTime": {
     "end_time": "2024-07-12T08:41:52.847658Z",
     "start_time": "2024-07-12T08:41:50.387847Z"
    }
   },
   "outputs": [],
   "source": [
    "import yfinance as yf\n",
    "import pandas as pd\n",
    "from finance_utils.utils import *"
   ]
  },
  {
   "cell_type": "code",
   "outputs": [
    {
     "name": "stderr",
     "output_type": "stream",
     "text": [
      "[*********************100%%**********************]  1 of 1 completed\n"
     ]
    },
    {
     "data": {
      "text/plain": "                  Open        High         Low       Close   Adj Close  \\\nDate                                                                     \n2020-01-02   28.299999   28.713333   28.114000   28.684000   28.684000   \n2020-01-03   29.366667   30.266666   29.128000   29.534000   29.534000   \n2020-01-06   29.364668   30.104000   29.333332   30.102667   30.102667   \n2020-01-07   30.760000   31.441999   30.224001   31.270666   31.270666   \n2020-01-08   31.580000   33.232666   31.215334   32.809334   32.809334   \n...                ...         ...         ...         ...         ...   \n2024-07-05  249.809998  252.369995  242.460007  251.520004  251.520004   \n2024-07-08  247.710007  259.440002  244.570007  252.940002  252.940002   \n2024-07-09  251.000000  265.609985  250.300003  262.329987  262.329987   \n2024-07-10  262.799988  267.589996  257.859985  263.260010  263.260010   \n2024-07-11  263.299988  271.000000  239.649994  241.029999  241.029999   \n\n               Volume  \nDate                   \n2020-01-02  142981500  \n2020-01-03  266677500  \n2020-01-06  151995000  \n2020-01-07  268231500  \n2020-01-08  467164500  \n...               ...  \n2024-07-05  154501200  \n2024-07-08  157219600  \n2024-07-09  160210900  \n2024-07-10  128519400  \n2024-07-11  220422800  \n\n[1138 rows x 6 columns]",
      "text/html": "<div>\n<style scoped>\n    .dataframe tbody tr th:only-of-type {\n        vertical-align: middle;\n    }\n\n    .dataframe tbody tr th {\n        vertical-align: top;\n    }\n\n    .dataframe thead th {\n        text-align: right;\n    }\n</style>\n<table border=\"1\" class=\"dataframe\">\n  <thead>\n    <tr style=\"text-align: right;\">\n      <th></th>\n      <th>Open</th>\n      <th>High</th>\n      <th>Low</th>\n      <th>Close</th>\n      <th>Adj Close</th>\n      <th>Volume</th>\n    </tr>\n    <tr>\n      <th>Date</th>\n      <th></th>\n      <th></th>\n      <th></th>\n      <th></th>\n      <th></th>\n      <th></th>\n    </tr>\n  </thead>\n  <tbody>\n    <tr>\n      <th>2020-01-02</th>\n      <td>28.299999</td>\n      <td>28.713333</td>\n      <td>28.114000</td>\n      <td>28.684000</td>\n      <td>28.684000</td>\n      <td>142981500</td>\n    </tr>\n    <tr>\n      <th>2020-01-03</th>\n      <td>29.366667</td>\n      <td>30.266666</td>\n      <td>29.128000</td>\n      <td>29.534000</td>\n      <td>29.534000</td>\n      <td>266677500</td>\n    </tr>\n    <tr>\n      <th>2020-01-06</th>\n      <td>29.364668</td>\n      <td>30.104000</td>\n      <td>29.333332</td>\n      <td>30.102667</td>\n      <td>30.102667</td>\n      <td>151995000</td>\n    </tr>\n    <tr>\n      <th>2020-01-07</th>\n      <td>30.760000</td>\n      <td>31.441999</td>\n      <td>30.224001</td>\n      <td>31.270666</td>\n      <td>31.270666</td>\n      <td>268231500</td>\n    </tr>\n    <tr>\n      <th>2020-01-08</th>\n      <td>31.580000</td>\n      <td>33.232666</td>\n      <td>31.215334</td>\n      <td>32.809334</td>\n      <td>32.809334</td>\n      <td>467164500</td>\n    </tr>\n    <tr>\n      <th>...</th>\n      <td>...</td>\n      <td>...</td>\n      <td>...</td>\n      <td>...</td>\n      <td>...</td>\n      <td>...</td>\n    </tr>\n    <tr>\n      <th>2024-07-05</th>\n      <td>249.809998</td>\n      <td>252.369995</td>\n      <td>242.460007</td>\n      <td>251.520004</td>\n      <td>251.520004</td>\n      <td>154501200</td>\n    </tr>\n    <tr>\n      <th>2024-07-08</th>\n      <td>247.710007</td>\n      <td>259.440002</td>\n      <td>244.570007</td>\n      <td>252.940002</td>\n      <td>252.940002</td>\n      <td>157219600</td>\n    </tr>\n    <tr>\n      <th>2024-07-09</th>\n      <td>251.000000</td>\n      <td>265.609985</td>\n      <td>250.300003</td>\n      <td>262.329987</td>\n      <td>262.329987</td>\n      <td>160210900</td>\n    </tr>\n    <tr>\n      <th>2024-07-10</th>\n      <td>262.799988</td>\n      <td>267.589996</td>\n      <td>257.859985</td>\n      <td>263.260010</td>\n      <td>263.260010</td>\n      <td>128519400</td>\n    </tr>\n    <tr>\n      <th>2024-07-11</th>\n      <td>263.299988</td>\n      <td>271.000000</td>\n      <td>239.649994</td>\n      <td>241.029999</td>\n      <td>241.029999</td>\n      <td>220422800</td>\n    </tr>\n  </tbody>\n</table>\n<p>1138 rows × 6 columns</p>\n</div>"
     },
     "execution_count": 2,
     "metadata": {},
     "output_type": "execute_result"
    }
   ],
   "source": [
    "tsla = yf.download('TSLA', start='2020-01-01')\n",
    "tsla"
   ],
   "metadata": {
    "collapsed": false,
    "ExecuteTime": {
     "end_time": "2024-07-12T08:42:31.511698Z",
     "start_time": "2024-07-12T08:42:30.079538Z"
    }
   },
   "id": "b7060e9b4c4b380b",
   "execution_count": 2
  },
  {
   "cell_type": "code",
   "outputs": [],
   "source": [],
   "metadata": {
    "collapsed": false
   },
   "id": "da6ba839aa9d6b0"
  }
 ],
 "metadata": {
  "kernelspec": {
   "display_name": "Python 3",
   "language": "python",
   "name": "python3"
  },
  "language_info": {
   "codemirror_mode": {
    "name": "ipython",
    "version": 2
   },
   "file_extension": ".py",
   "mimetype": "text/x-python",
   "name": "python",
   "nbconvert_exporter": "python",
   "pygments_lexer": "ipython2",
   "version": "2.7.6"
  }
 },
 "nbformat": 4,
 "nbformat_minor": 5
}
