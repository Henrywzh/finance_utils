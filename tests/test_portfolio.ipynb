{
 "cells": [
  {
   "cell_type": "code",
   "execution_count": 1,
   "id": "initial_id",
   "metadata": {
    "collapsed": true,
    "ExecuteTime": {
     "end_time": "2024-09-08T13:45:24.185997Z",
     "start_time": "2024-09-08T13:45:23.961569Z"
    }
   },
   "outputs": [],
   "source": [
    "from finance_utils.portfolio import *\n",
    "import pandas as pd\n",
    "import numpy as np\n",
    "import matplotlib.pyplot as plt"
   ]
  },
  {
   "cell_type": "code",
   "outputs": [
    {
     "name": "stderr",
     "output_type": "stream",
     "text": [
      "[*********************100%%**********************]  4 of 4 completed\n",
      "[*********************100%%**********************]  1 of 1 completed\n"
     ]
    }
   ],
   "source": [
    "df = yf.download(tickers=['AAPL', 'MSFT', 'AMZN', 'SPY'], start='2020-01-01')\n",
    "initial_capital = 1_000_000\n",
    "p = Portfolio(df['Adj Close'], initial_capital)"
   ],
   "metadata": {
    "collapsed": false,
    "ExecuteTime": {
     "end_time": "2024-09-08T13:45:24.867940Z",
     "start_time": "2024-09-08T13:45:24.186962Z"
    }
   },
   "id": "54394133f4d24e83",
   "execution_count": 2
  },
  {
   "cell_type": "code",
   "outputs": [
    {
     "data": {
      "text/plain": "['AAPL', 'AMZN', 'MSFT', 'SPY']"
     },
     "execution_count": 3,
     "metadata": {},
     "output_type": "execute_result"
    }
   ],
   "source": [
    "p.tickers"
   ],
   "metadata": {
    "collapsed": false,
    "ExecuteTime": {
     "end_time": "2024-09-08T13:45:24.873446Z",
     "start_time": "2024-09-08T13:45:24.869126Z"
    }
   },
   "id": "10dd879fa4a3ab5d",
   "execution_count": 3
  },
  {
   "cell_type": "code",
   "outputs": [
    {
     "data": {
      "text/plain": "'^GSPC'"
     },
     "execution_count": 4,
     "metadata": {},
     "output_type": "execute_result"
    }
   ],
   "source": [
    "p.benchmark"
   ],
   "metadata": {
    "collapsed": false,
    "ExecuteTime": {
     "end_time": "2024-09-08T13:45:24.877002Z",
     "start_time": "2024-09-08T13:45:24.874357Z"
    }
   },
   "id": "3564b587dd355281",
   "execution_count": 4
  },
  {
   "cell_type": "code",
   "outputs": [
    {
     "data": {
      "text/plain": "Timestamp('2020-01-02 00:00:00')"
     },
     "execution_count": 5,
     "metadata": {},
     "output_type": "execute_result"
    }
   ],
   "source": [
    "p.start_date"
   ],
   "metadata": {
    "collapsed": false,
    "ExecuteTime": {
     "end_time": "2024-09-08T13:45:24.879851Z",
     "start_time": "2024-09-08T13:45:24.877776Z"
    }
   },
   "id": "9a1712995653d47a",
   "execution_count": 5
  },
  {
   "cell_type": "code",
   "outputs": [
    {
     "data": {
      "text/plain": "Timestamp('2024-09-06 00:00:00')"
     },
     "execution_count": 6,
     "metadata": {},
     "output_type": "execute_result"
    }
   ],
   "source": [
    "p.end_date"
   ],
   "metadata": {
    "collapsed": false,
    "ExecuteTime": {
     "end_time": "2024-09-08T13:45:24.882821Z",
     "start_time": "2024-09-08T13:45:24.880624Z"
    }
   },
   "id": "bf5c99daf8aca221",
   "execution_count": 6
  },
  {
   "cell_type": "code",
   "outputs": [
    {
     "name": "stdout",
     "output_type": "stream",
     "text": [
      "<class 'pandas._libs.tslibs.timestamps.Timestamp'>\n"
     ]
    }
   ],
   "source": [
    "print(type(p.end_date))"
   ],
   "metadata": {
    "collapsed": false,
    "ExecuteTime": {
     "end_time": "2024-09-08T13:45:24.885293Z",
     "start_time": "2024-09-08T13:45:24.883460Z"
    }
   },
   "id": "37978db0a72b54d8",
   "execution_count": 7
  },
  {
   "cell_type": "code",
   "outputs": [
    {
     "data": {
      "text/plain": "Ticker            AAPL        AMZN        MSFT         SPY\nDate                                                      \n2020-01-02   72.876114   94.900497  153.938217  303.135529\n2020-01-03   72.167610   93.748497  152.021393  300.840149\n2020-01-06   72.742661   95.143997  152.414352  301.987915\n2020-01-07   72.400528   95.343002  151.024673  301.138794\n2020-01-08   73.565208   94.598503  153.430267  302.743744\n...                ...         ...         ...         ...\n2024-08-30  229.000000  178.500000  417.140015  563.679993\n2024-09-03  222.770004  176.250000  409.440002  552.080017\n2024-09-04  220.850006  173.330002  408.899994  550.950012\n2024-09-05  222.380005  177.889999  408.390015  549.609985\n2024-09-06  220.820007  171.389999  401.700012  540.359985\n\n[1178 rows x 4 columns]",
      "text/html": "<div>\n<style scoped>\n    .dataframe tbody tr th:only-of-type {\n        vertical-align: middle;\n    }\n\n    .dataframe tbody tr th {\n        vertical-align: top;\n    }\n\n    .dataframe thead th {\n        text-align: right;\n    }\n</style>\n<table border=\"1\" class=\"dataframe\">\n  <thead>\n    <tr style=\"text-align: right;\">\n      <th>Ticker</th>\n      <th>AAPL</th>\n      <th>AMZN</th>\n      <th>MSFT</th>\n      <th>SPY</th>\n    </tr>\n    <tr>\n      <th>Date</th>\n      <th></th>\n      <th></th>\n      <th></th>\n      <th></th>\n    </tr>\n  </thead>\n  <tbody>\n    <tr>\n      <th>2020-01-02</th>\n      <td>72.876114</td>\n      <td>94.900497</td>\n      <td>153.938217</td>\n      <td>303.135529</td>\n    </tr>\n    <tr>\n      <th>2020-01-03</th>\n      <td>72.167610</td>\n      <td>93.748497</td>\n      <td>152.021393</td>\n      <td>300.840149</td>\n    </tr>\n    <tr>\n      <th>2020-01-06</th>\n      <td>72.742661</td>\n      <td>95.143997</td>\n      <td>152.414352</td>\n      <td>301.987915</td>\n    </tr>\n    <tr>\n      <th>2020-01-07</th>\n      <td>72.400528</td>\n      <td>95.343002</td>\n      <td>151.024673</td>\n      <td>301.138794</td>\n    </tr>\n    <tr>\n      <th>2020-01-08</th>\n      <td>73.565208</td>\n      <td>94.598503</td>\n      <td>153.430267</td>\n      <td>302.743744</td>\n    </tr>\n    <tr>\n      <th>...</th>\n      <td>...</td>\n      <td>...</td>\n      <td>...</td>\n      <td>...</td>\n    </tr>\n    <tr>\n      <th>2024-08-30</th>\n      <td>229.000000</td>\n      <td>178.500000</td>\n      <td>417.140015</td>\n      <td>563.679993</td>\n    </tr>\n    <tr>\n      <th>2024-09-03</th>\n      <td>222.770004</td>\n      <td>176.250000</td>\n      <td>409.440002</td>\n      <td>552.080017</td>\n    </tr>\n    <tr>\n      <th>2024-09-04</th>\n      <td>220.850006</td>\n      <td>173.330002</td>\n      <td>408.899994</td>\n      <td>550.950012</td>\n    </tr>\n    <tr>\n      <th>2024-09-05</th>\n      <td>222.380005</td>\n      <td>177.889999</td>\n      <td>408.390015</td>\n      <td>549.609985</td>\n    </tr>\n    <tr>\n      <th>2024-09-06</th>\n      <td>220.820007</td>\n      <td>171.389999</td>\n      <td>401.700012</td>\n      <td>540.359985</td>\n    </tr>\n  </tbody>\n</table>\n<p>1178 rows × 4 columns</p>\n</div>"
     },
     "execution_count": 8,
     "metadata": {},
     "output_type": "execute_result"
    }
   ],
   "source": [
    "p.prices"
   ],
   "metadata": {
    "collapsed": false,
    "ExecuteTime": {
     "end_time": "2024-09-08T13:45:24.891634Z",
     "start_time": "2024-09-08T13:45:24.886003Z"
    }
   },
   "id": "b86eaff49fd0243b",
   "execution_count": 8
  },
  {
   "cell_type": "code",
   "outputs": [
    {
     "data": {
      "text/plain": "Date\n2020-01-02    3257.850098\n2020-01-03    3234.850098\n2020-01-06    3246.280029\n2020-01-07    3237.179932\n2020-01-08    3253.050049\n                 ...     \n2024-08-29    5591.959961\n2024-08-30    5648.399902\n2024-09-03    5528.930176\n2024-09-04    5520.069824\n2024-09-05    5503.410156\nName: ^GSPC, Length: 1177, dtype: float64"
     },
     "execution_count": 9,
     "metadata": {},
     "output_type": "execute_result"
    }
   ],
   "source": [
    "p.benchmark_prices"
   ],
   "metadata": {
    "collapsed": false,
    "ExecuteTime": {
     "end_time": "2024-09-08T13:45:24.896128Z",
     "start_time": "2024-09-08T13:45:24.893542Z"
    }
   },
   "id": "b01c272385f51d28",
   "execution_count": 9
  },
  {
   "cell_type": "code",
   "outputs": [],
   "source": [],
   "metadata": {
    "collapsed": false,
    "ExecuteTime": {
     "end_time": "2024-09-08T13:45:24.898219Z",
     "start_time": "2024-09-08T13:45:24.896826Z"
    }
   },
   "id": "9bc56a3aee6ac308",
   "execution_count": 9
  }
 ],
 "metadata": {
  "kernelspec": {
   "display_name": "Python 3",
   "language": "python",
   "name": "python3"
  },
  "language_info": {
   "codemirror_mode": {
    "name": "ipython",
    "version": 2
   },
   "file_extension": ".py",
   "mimetype": "text/x-python",
   "name": "python",
   "nbconvert_exporter": "python",
   "pygments_lexer": "ipython2",
   "version": "2.7.6"
  }
 },
 "nbformat": 4,
 "nbformat_minor": 5
}
