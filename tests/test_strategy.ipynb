{
 "cells": [
  {
   "cell_type": "code",
   "execution_count": 4,
   "id": "initial_id",
   "metadata": {
    "collapsed": true,
    "ExecuteTime": {
     "end_time": "2024-08-01T03:08:05.040200Z",
     "start_time": "2024-08-01T03:08:05.035252Z"
    }
   },
   "outputs": [],
   "source": [
    "import numpy as np\n",
    "import pandas as pd\n",
    "import matplotlib.pyplot as plt\n",
    "import yfinance as yf\n",
    "from finance_utils.account import Account\n",
    "from finance_utils.strategy import Strategy"
   ]
  },
  {
   "cell_type": "markdown",
   "source": [
    "Test for buying a stock multiple times"
   ],
   "metadata": {
    "collapsed": false
   },
   "id": "885dc6223abc15b"
  },
  {
   "cell_type": "code",
   "outputs": [],
   "source": [
    "initial_cash = 10_000\n",
    "my_account = Account(initial_cash)"
   ],
   "metadata": {
    "collapsed": false,
    "ExecuteTime": {
     "end_time": "2024-08-01T03:08:07.057666Z",
     "start_time": "2024-08-01T03:08:07.054723Z"
    }
   },
   "id": "1d367538db5dd1dd",
   "execution_count": 5
  },
  {
   "cell_type": "code",
   "outputs": [],
   "source": [],
   "metadata": {
    "collapsed": false,
    "ExecuteTime": {
     "end_time": "2024-07-31T15:07:49.299358Z",
     "start_time": "2024-07-31T15:07:49.296833Z"
    }
   },
   "id": "3c3cc285be31f267",
   "execution_count": 15
  },
  {
   "cell_type": "code",
   "outputs": [],
   "source": [],
   "metadata": {
    "collapsed": false,
    "ExecuteTime": {
     "end_time": "2024-07-31T15:08:19.353140Z",
     "start_time": "2024-07-31T15:08:19.350945Z"
    }
   },
   "id": "e839a3a3fd3b021c",
   "execution_count": 18
  },
  {
   "cell_type": "code",
   "outputs": [],
   "source": [],
   "metadata": {
    "collapsed": false
   },
   "id": "d216005dfbd5a55c"
  }
 ],
 "metadata": {
  "kernelspec": {
   "display_name": "Python 3",
   "language": "python",
   "name": "python3"
  },
  "language_info": {
   "codemirror_mode": {
    "name": "ipython",
    "version": 2
   },
   "file_extension": ".py",
   "mimetype": "text/x-python",
   "name": "python",
   "nbconvert_exporter": "python",
   "pygments_lexer": "ipython2",
   "version": "2.7.6"
  }
 },
 "nbformat": 4,
 "nbformat_minor": 5
}
