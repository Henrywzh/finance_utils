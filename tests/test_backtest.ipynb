{
 "cells": [
  {
   "cell_type": "code",
   "execution_count": 1,
   "id": "initial_id",
   "metadata": {
    "collapsed": true,
    "ExecuteTime": {
     "end_time": "2024-07-21T14:05:37.129587Z",
     "start_time": "2024-07-21T14:05:36.985973Z"
    }
   },
   "outputs": [],
   "source": [
    "from finance_utils.backtest import *"
   ]
  },
  {
   "cell_type": "code",
   "outputs": [
    {
     "name": "stderr",
     "output_type": "stream",
     "text": [
      "[*********************100%%**********************]  1 of 1 completed\n"
     ]
    }
   ],
   "source": [
    "start_date = '2018-06-01'\n",
    "sp500 = yf.download('SPY', start=start_date)"
   ],
   "metadata": {
    "collapsed": false,
    "ExecuteTime": {
     "end_time": "2024-07-21T14:05:37.705953Z",
     "start_time": "2024-07-21T14:05:37.130119Z"
    }
   },
   "id": "7426e0587f331177",
   "execution_count": 2
  },
  {
   "cell_type": "code",
   "outputs": [],
   "source": [
    "sp500_df = pd.DataFrame()\n",
    "sp500_df['Price'] = sp500['Adj Close']\n",
    "sp500_df['Value'] = sp500['Adj Close']\n",
    "sp500_df['Return'] = sp500['Adj Close'].pct_change()"
   ],
   "metadata": {
    "collapsed": false,
    "ExecuteTime": {
     "end_time": "2024-07-21T14:05:37.711542Z",
     "start_time": "2024-07-21T14:05:37.707814Z"
    }
   },
   "id": "b41ebdc9625e65f5",
   "execution_count": 3
  },
  {
   "cell_type": "code",
   "outputs": [
    {
     "name": "stdout",
     "output_type": "stream",
     "text": [
      "Running the backtest...\n",
      "df & results cleaned, benchmark set to buy & hold\n",
      "Backtesting completed\n"
     ]
    }
   ],
   "source": [
    "test_sp500 = Backtest(sp500_df)"
   ],
   "metadata": {
    "collapsed": false,
    "ExecuteTime": {
     "end_time": "2024-07-21T14:05:37.786082Z",
     "start_time": "2024-07-21T14:05:37.712335Z"
    }
   },
   "id": "f46431604d01eb7d",
   "execution_count": 4
  },
  {
   "cell_type": "code",
   "outputs": [
    {
     "data": {
      "text/plain": "{'Initial Value': 246.86557006835938,\n 'Peak Value': 564.8599853515625,\n 'Final Value': 548.989990234375,\n 'Max Drawdown': 0.337172675268695,\n 'Avg Drawdown': 0.06764294517022769,\n 'Calmar Ratio': 1.3801042810627249,\n 'Sterling Ratio': 6.879260674186454,\n 'Annualised Return': 0.46533345259569786,\n 'Volatility': 1.2532568730315312,\n 'Sharpe Ratio': 0.3712993422251037,\n 'Downside Volatility': 0.8773726535715927,\n 'Sortino Ratio': 0.3712993422251037,\n 'VaR 95': -0.01843533001051676,\n 'VaR 99': -0.034043607499008824,\n 'CVaR 95': -0.030290837494799286,\n 'CVaR 99': -0.05225566612349516,\n 'Alpha': 0.0,\n 'Beta': 1.0,\n 'R^2': 1.0,\n 'Calendar Month Return': Date\n 2018-06-30   -0.004027\n 2018-07-31    0.034834\n 2018-08-31    0.033647\n 2018-09-30    0.007681\n 2018-10-31   -0.072327\n                 ...   \n 2024-03-31    0.023097\n 2024-04-30   -0.038647\n 2024-05-31    0.054002\n 2024-06-30    0.034437\n 2024-07-31    0.006693\n Freq: ME, Name: Monthly Return, Length: 74, dtype: float64,\n 'Calendar Year Return': Date\n 2018-12-31   -0.072912\n 2019-12-31    0.310875\n 2020-12-31    0.172353\n 2021-12-31    0.305055\n 2022-12-31   -0.186464\n 2023-12-31    0.267092\n 2024-12-31    0.168883\n Freq: YE-DEC, Name: Yearly Return, dtype: float64}"
     },
     "execution_count": 5,
     "metadata": {},
     "output_type": "execute_result"
    }
   ],
   "source": [
    "test_sp500.results"
   ],
   "metadata": {
    "collapsed": false,
    "ExecuteTime": {
     "end_time": "2024-07-21T14:05:37.791199Z",
     "start_time": "2024-07-21T14:05:37.786836Z"
    }
   },
   "id": "ff47641632f39d63",
   "execution_count": 5
  },
  {
   "cell_type": "code",
   "outputs": [
    {
     "data": {
      "text/plain": "                 Price       Value    Return   Benchmark        Peak  Drawdown\nDate                                                                          \n2018-06-01  246.865570  246.865570       NaN  246.865570  246.865570  0.000000\n2018-06-04  248.038544  248.038544  0.004751  248.038544  248.038544  0.000000\n2018-06-05  248.219009  248.219009  0.000728  248.219009  248.219009  0.000000\n2018-06-06  250.294281  250.294281  0.008361  250.294281  250.294281  0.000000\n2018-06-07  250.267227  250.267227 -0.000108  250.267227  250.294281 -0.000108\n...                ...         ...       ...         ...         ...       ...\n2024-07-15  561.530029  561.530029  0.002750  561.530029  561.530029  0.000000\n2024-07-16  564.859985  564.859985  0.005930  564.859985  564.859985  0.000000\n2024-07-17  556.940002  556.940002 -0.014021  556.940002  564.859985 -0.014021\n2024-07-18  552.659973  552.659973 -0.007685  552.659973  564.859985 -0.021598\n2024-07-19  548.989990  548.989990 -0.006641  548.989990  564.859985 -0.028095\n\n[1543 rows x 6 columns]",
      "text/html": "<div>\n<style scoped>\n    .dataframe tbody tr th:only-of-type {\n        vertical-align: middle;\n    }\n\n    .dataframe tbody tr th {\n        vertical-align: top;\n    }\n\n    .dataframe thead th {\n        text-align: right;\n    }\n</style>\n<table border=\"1\" class=\"dataframe\">\n  <thead>\n    <tr style=\"text-align: right;\">\n      <th></th>\n      <th>Price</th>\n      <th>Value</th>\n      <th>Return</th>\n      <th>Benchmark</th>\n      <th>Peak</th>\n      <th>Drawdown</th>\n    </tr>\n    <tr>\n      <th>Date</th>\n      <th></th>\n      <th></th>\n      <th></th>\n      <th></th>\n      <th></th>\n      <th></th>\n    </tr>\n  </thead>\n  <tbody>\n    <tr>\n      <th>2018-06-01</th>\n      <td>246.865570</td>\n      <td>246.865570</td>\n      <td>NaN</td>\n      <td>246.865570</td>\n      <td>246.865570</td>\n      <td>0.000000</td>\n    </tr>\n    <tr>\n      <th>2018-06-04</th>\n      <td>248.038544</td>\n      <td>248.038544</td>\n      <td>0.004751</td>\n      <td>248.038544</td>\n      <td>248.038544</td>\n      <td>0.000000</td>\n    </tr>\n    <tr>\n      <th>2018-06-05</th>\n      <td>248.219009</td>\n      <td>248.219009</td>\n      <td>0.000728</td>\n      <td>248.219009</td>\n      <td>248.219009</td>\n      <td>0.000000</td>\n    </tr>\n    <tr>\n      <th>2018-06-06</th>\n      <td>250.294281</td>\n      <td>250.294281</td>\n      <td>0.008361</td>\n      <td>250.294281</td>\n      <td>250.294281</td>\n      <td>0.000000</td>\n    </tr>\n    <tr>\n      <th>2018-06-07</th>\n      <td>250.267227</td>\n      <td>250.267227</td>\n      <td>-0.000108</td>\n      <td>250.267227</td>\n      <td>250.294281</td>\n      <td>-0.000108</td>\n    </tr>\n    <tr>\n      <th>...</th>\n      <td>...</td>\n      <td>...</td>\n      <td>...</td>\n      <td>...</td>\n      <td>...</td>\n      <td>...</td>\n    </tr>\n    <tr>\n      <th>2024-07-15</th>\n      <td>561.530029</td>\n      <td>561.530029</td>\n      <td>0.002750</td>\n      <td>561.530029</td>\n      <td>561.530029</td>\n      <td>0.000000</td>\n    </tr>\n    <tr>\n      <th>2024-07-16</th>\n      <td>564.859985</td>\n      <td>564.859985</td>\n      <td>0.005930</td>\n      <td>564.859985</td>\n      <td>564.859985</td>\n      <td>0.000000</td>\n    </tr>\n    <tr>\n      <th>2024-07-17</th>\n      <td>556.940002</td>\n      <td>556.940002</td>\n      <td>-0.014021</td>\n      <td>556.940002</td>\n      <td>564.859985</td>\n      <td>-0.014021</td>\n    </tr>\n    <tr>\n      <th>2024-07-18</th>\n      <td>552.659973</td>\n      <td>552.659973</td>\n      <td>-0.007685</td>\n      <td>552.659973</td>\n      <td>564.859985</td>\n      <td>-0.021598</td>\n    </tr>\n    <tr>\n      <th>2024-07-19</th>\n      <td>548.989990</td>\n      <td>548.989990</td>\n      <td>-0.006641</td>\n      <td>548.989990</td>\n      <td>564.859985</td>\n      <td>-0.028095</td>\n    </tr>\n  </tbody>\n</table>\n<p>1543 rows × 6 columns</p>\n</div>"
     },
     "execution_count": 7,
     "metadata": {},
     "output_type": "execute_result"
    }
   ],
   "source": [
    "test_sp500.df"
   ],
   "metadata": {
    "collapsed": false,
    "ExecuteTime": {
     "end_time": "2024-07-21T14:06:31.970419Z",
     "start_time": "2024-07-21T14:06:31.943248Z"
    }
   },
   "id": "14fe19a8a8cbc1f8",
   "execution_count": 7
  },
  {
   "cell_type": "code",
   "outputs": [],
   "source": [],
   "metadata": {
    "collapsed": false
   },
   "id": "7fcaf905d7e6706a"
  }
 ],
 "metadata": {
  "kernelspec": {
   "display_name": "Python 3",
   "language": "python",
   "name": "python3"
  },
  "language_info": {
   "codemirror_mode": {
    "name": "ipython",
    "version": 2
   },
   "file_extension": ".py",
   "mimetype": "text/x-python",
   "name": "python",
   "nbconvert_exporter": "python",
   "pygments_lexer": "ipython2",
   "version": "2.7.6"
  }
 },
 "nbformat": 4,
 "nbformat_minor": 5
}
