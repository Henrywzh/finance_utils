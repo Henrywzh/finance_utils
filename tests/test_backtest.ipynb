{
 "cells": [
  {
   "cell_type": "code",
   "execution_count": 1,
   "id": "initial_id",
   "metadata": {
    "collapsed": true,
    "ExecuteTime": {
     "end_time": "2024-07-20T13:48:55.677215Z",
     "start_time": "2024-07-20T13:48:55.528901Z"
    }
   },
   "outputs": [],
   "source": [
    "from finance_utils.backtest import *"
   ]
  },
  {
   "cell_type": "code",
   "outputs": [
    {
     "name": "stderr",
     "output_type": "stream",
     "text": [
      "[*********************100%%**********************]  1 of 1 completed\n"
     ]
    }
   ],
   "source": [
    "start_date = '2018-06-01'\n",
    "sp500 = yf.download('SPY', start=start_date)"
   ],
   "metadata": {
    "collapsed": false,
    "ExecuteTime": {
     "end_time": "2024-07-20T13:48:56.065209Z",
     "start_time": "2024-07-20T13:48:55.677952Z"
    }
   },
   "id": "7426e0587f331177",
   "execution_count": 2
  },
  {
   "cell_type": "code",
   "outputs": [],
   "source": [
    "sp500_df = pd.DataFrame()\n",
    "sp500_df['Price'] = sp500['Adj Close']\n",
    "sp500_df['Value'] = sp500['Adj Close']\n",
    "sp500_df['Return'] = sp500['Adj Close'].pct_change()"
   ],
   "metadata": {
    "collapsed": false,
    "ExecuteTime": {
     "end_time": "2024-07-20T13:48:56.071187Z",
     "start_time": "2024-07-20T13:48:56.067025Z"
    }
   },
   "id": "b41ebdc9625e65f5",
   "execution_count": 3
  },
  {
   "cell_type": "code",
   "outputs": [
    {
     "name": "stdout",
     "output_type": "stream",
     "text": [
      "Running the backtest...\n",
      "df & results cleaned, benchmark set to buy & hold\n",
      "Date\n",
      "2018-06-01    246.865524\n",
      "2018-06-04    248.038528\n",
      "2018-06-05    248.219040\n",
      "2018-06-06    250.294327\n",
      "2018-06-07    250.294327\n",
      "                 ...    \n",
      "2024-07-15    561.530029\n",
      "2024-07-16    564.859985\n",
      "2024-07-17    564.859985\n",
      "2024-07-18    564.859985\n",
      "2024-07-19    564.859985\n",
      "Length: 1543, dtype: float64\n",
      "Date\n",
      "2018-06-01    246.865524\n",
      "2018-06-04    248.038528\n",
      "2018-06-05    248.219040\n",
      "2018-06-06    250.294327\n",
      "2018-06-07    250.294327\n",
      "                 ...    \n",
      "2024-07-15    561.530029\n",
      "2024-07-16    564.859985\n",
      "2024-07-17    564.859985\n",
      "2024-07-18    564.859985\n",
      "2024-07-19    564.859985\n",
      "Length: 1543, dtype: float64\n",
      "Date\n",
      "2018-06-01    0.000000\n",
      "2018-06-04    0.000000\n",
      "2018-06-05    0.000000\n",
      "2018-06-06    0.000000\n",
      "2018-06-07   -0.000108\n",
      "                ...   \n",
      "2024-07-15    0.000000\n",
      "2024-07-16    0.000000\n",
      "2024-07-17   -0.014021\n",
      "2024-07-18   -0.021598\n",
      "2024-07-19   -0.028095\n",
      "Length: 1543, dtype: float64\n",
      "Backtesting completed\n"
     ]
    }
   ],
   "source": [
    "test_sp500 = Backtest(sp500_df)"
   ],
   "metadata": {
    "collapsed": false,
    "ExecuteTime": {
     "end_time": "2024-07-20T13:48:56.147628Z",
     "start_time": "2024-07-20T13:48:56.071926Z"
    }
   },
   "id": "f46431604d01eb7d",
   "execution_count": 4
  },
  {
   "cell_type": "code",
   "outputs": [
    {
     "data": {
      "text/plain": "{'Initial Value': 246.8655242919922,\n 'Peak Value': 564.8599853515625,\n 'Final Value': 548.989990234375,\n 'Max Drawdown': 0.3371725302711396,\n 'Avg Drawdown': 0.06764292817330671,\n 'Calmar Ratio': 1.380104920405616,\n 'Sterling Ratio': 6.879262631277417,\n 'Annualised Return': 0.4653334680528112,\n 'Volatility': 1.5706528416093826,\n 'Sharpe Ratio': 0.37129934843493057,\n 'Downside Volatility': 1.0635548990890942,\n 'Sortino Ratio': nan,\n 'VaR 95': -0.018435184163556426,\n 'VaR 99': -0.034043549331175385,\n 'CVaR 95': -0.030290851164930466,\n 'CVaR 99': -0.052255619856775015,\n 'Alpha': nan,\n 'Beta': nan,\n 'R^2': nan,\n 'Calendar Month Return': Date\n 2018-06-30   -0.004027\n 2018-07-31    0.034834\n 2018-08-31    0.033647\n 2018-09-30    0.007681\n 2018-10-31   -0.072327\n                 ...   \n 2024-03-31    0.023097\n 2024-04-30   -0.038647\n 2024-05-31    0.054002\n 2024-06-30    0.034437\n 2024-07-31    0.006693\n Freq: ME, Name: Monthly Return, Length: 74, dtype: float64,\n 'Calendar Year Return': Date\n 2018-12-31   -0.072912\n 2019-12-31    0.310875\n 2020-12-31    0.172353\n 2021-12-31    0.305055\n 2022-12-31   -0.186464\n 2023-12-31    0.267092\n 2024-12-31    0.168883\n Freq: YE-DEC, Name: Yearly Return, dtype: float64}"
     },
     "execution_count": 6,
     "metadata": {},
     "output_type": "execute_result"
    }
   ],
   "source": [
    "test_sp500.results"
   ],
   "metadata": {
    "collapsed": false,
    "ExecuteTime": {
     "end_time": "2024-07-20T13:49:23.905630Z",
     "start_time": "2024-07-20T13:49:23.899285Z"
    }
   },
   "id": "ff47641632f39d63",
   "execution_count": 6
  },
  {
   "cell_type": "code",
   "outputs": [],
   "source": [
    "# ---- DEBUG ----\n",
    "\"\"\"\n",
    "1. Volatility\n",
    "2. Alpha, beta, r^2\n",
    "3. Downside & Sortino\n",
    "\"\"\""
   ],
   "metadata": {
    "collapsed": false
   },
   "id": "14fe19a8a8cbc1f8"
  }
 ],
 "metadata": {
  "kernelspec": {
   "display_name": "Python 3",
   "language": "python",
   "name": "python3"
  },
  "language_info": {
   "codemirror_mode": {
    "name": "ipython",
    "version": 2
   },
   "file_extension": ".py",
   "mimetype": "text/x-python",
   "name": "python",
   "nbconvert_exporter": "python",
   "pygments_lexer": "ipython2",
   "version": "2.7.6"
  }
 },
 "nbformat": 4,
 "nbformat_minor": 5
}
